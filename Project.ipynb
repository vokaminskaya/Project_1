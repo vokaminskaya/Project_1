{
 "cells": [
  {
   "cell_type": "markdown",
   "id": "c7798545",
   "metadata": {},
   "source": [
    "## <font color='DarkMagenta'>Цель исследования<font/>\n",
    "\n",
    "Построить отчет, отвечающий на следующие вопросы:\n",
    "- Какая возрастная группа лучше всего оформляет триальную подписку;\n",
    "- Какая возрастная группа лучше всего конвертируется из триальной подписки в платную подписку. "
   ]
  },
  {
   "cell_type": "markdown",
   "id": "717ac9b6",
   "metadata": {},
   "source": [
    "## <font color='DarkMagenta'>Описание данных<font/>\n",
    "\n",
    "Данные о пользователях за все время, которые включают в себя следующую информацию:\n",
    "- Id пользователя;\n",
    "- Дату установки приложения;\n",
    "- Страну пользователя;\n",
    "- Данные о каждом действии пользователя;\n",
    "- Время совершения вышеупомянутых действий."
   ]
  },
  {
   "cell_type": "markdown",
   "id": "f80db5a3",
   "metadata": {},
   "source": [
    "### <font color='DarkMagenta'>  1. Получение первичной информации, очистка данных<font/>"
   ]
  },
  {
   "cell_type": "code",
   "execution_count": 1,
   "id": "2fe3fac1",
   "metadata": {},
   "outputs": [],
   "source": [
    "import numpy as np\n",
    "import pandas as pd \n",
    "import matplotlib.pyplot as plt"
   ]
  },
  {
   "cell_type": "code",
   "execution_count": 2,
   "id": "4fdaddb7",
   "metadata": {},
   "outputs": [],
   "source": [
    "data = pd.read_csv('C:/Users/folde/Desktop/data.csv')"
   ]
  },
  {
   "cell_type": "code",
   "execution_count": 3,
   "id": "cc75ad1e",
   "metadata": {},
   "outputs": [
    {
     "data": {
      "text/html": [
       "<div>\n",
       "<style scoped>\n",
       "    .dataframe tbody tr th:only-of-type {\n",
       "        vertical-align: middle;\n",
       "    }\n",
       "\n",
       "    .dataframe tbody tr th {\n",
       "        vertical-align: top;\n",
       "    }\n",
       "\n",
       "    .dataframe thead th {\n",
       "        text-align: right;\n",
       "    }\n",
       "</style>\n",
       "<table border=\"1\" class=\"dataframe\">\n",
       "  <thead>\n",
       "    <tr style=\"text-align: right;\">\n",
       "      <th></th>\n",
       "      <th>appsflyer_id</th>\n",
       "      <th>install_time</th>\n",
       "      <th>event_name</th>\n",
       "      <th>event_time</th>\n",
       "      <th>country_code</th>\n",
       "    </tr>\n",
       "  </thead>\n",
       "  <tbody>\n",
       "    <tr>\n",
       "      <th>0</th>\n",
       "      <td>1646082115451-9329704</td>\n",
       "      <td>2022-03-01 00:02:44.000</td>\n",
       "      <td>af_onb_screen_1_1</td>\n",
       "      <td>2022-03-01 00:02:46.000</td>\n",
       "      <td>US</td>\n",
       "    </tr>\n",
       "    <tr>\n",
       "      <th>1</th>\n",
       "      <td>1646082115451-9329704</td>\n",
       "      <td>2022-03-01 00:02:44.000</td>\n",
       "      <td>af_onb_screen_1_2</td>\n",
       "      <td>2022-03-01 00:02:49.000</td>\n",
       "      <td>US</td>\n",
       "    </tr>\n",
       "    <tr>\n",
       "      <th>2</th>\n",
       "      <td>1646082115451-9329704</td>\n",
       "      <td>2022-03-01 00:02:44.000</td>\n",
       "      <td>af_onb_screen_1_3</td>\n",
       "      <td>2022-03-01 00:02:56.000</td>\n",
       "      <td>US</td>\n",
       "    </tr>\n",
       "    <tr>\n",
       "      <th>3</th>\n",
       "      <td>1646082115451-9329704</td>\n",
       "      <td>2022-03-01 00:02:44.000</td>\n",
       "      <td>af_onb_screen_1_4</td>\n",
       "      <td>2022-03-01 00:03:26.000</td>\n",
       "      <td>US</td>\n",
       "    </tr>\n",
       "    <tr>\n",
       "      <th>4</th>\n",
       "      <td>1646082115451-9329704</td>\n",
       "      <td>2022-03-01 00:02:44.000</td>\n",
       "      <td>af_activities_2</td>\n",
       "      <td>2022-03-01 00:03:33.000</td>\n",
       "      <td>US</td>\n",
       "    </tr>\n",
       "    <tr>\n",
       "      <th>5</th>\n",
       "      <td>1646082115451-9329704</td>\n",
       "      <td>2022-03-01 00:02:44.000</td>\n",
       "      <td>af_emotions_10</td>\n",
       "      <td>2022-03-01 00:03:33.000</td>\n",
       "      <td>US</td>\n",
       "    </tr>\n",
       "    <tr>\n",
       "      <th>6</th>\n",
       "      <td>1646082115451-9329704</td>\n",
       "      <td>2022-03-01 00:02:44.000</td>\n",
       "      <td>af_mood_Fine</td>\n",
       "      <td>2022-03-01 00:03:33.000</td>\n",
       "      <td>US</td>\n",
       "    </tr>\n",
       "    <tr>\n",
       "      <th>7</th>\n",
       "      <td>1646082115451-9329704</td>\n",
       "      <td>2022-03-01 00:02:44.000</td>\n",
       "      <td>af_paywall_onb_1_1_week</td>\n",
       "      <td>2022-03-01 00:03:33.000</td>\n",
       "      <td>US</td>\n",
       "    </tr>\n",
       "    <tr>\n",
       "      <th>8</th>\n",
       "      <td>1646082115451-9329704</td>\n",
       "      <td>2022-03-01 00:02:44.000</td>\n",
       "      <td>af_open_home</td>\n",
       "      <td>2022-03-01 00:03:37.000</td>\n",
       "      <td>US</td>\n",
       "    </tr>\n",
       "    <tr>\n",
       "      <th>9</th>\n",
       "      <td>1646082115451-9329704</td>\n",
       "      <td>2022-03-01 00:02:44.000</td>\n",
       "      <td>af_log_mood</td>\n",
       "      <td>2022-03-01 00:03:41.000</td>\n",
       "      <td>US</td>\n",
       "    </tr>\n",
       "  </tbody>\n",
       "</table>\n",
       "</div>"
      ],
      "text/plain": [
       "            appsflyer_id             install_time               event_name  \\\n",
       "0  1646082115451-9329704  2022-03-01 00:02:44.000        af_onb_screen_1_1   \n",
       "1  1646082115451-9329704  2022-03-01 00:02:44.000        af_onb_screen_1_2   \n",
       "2  1646082115451-9329704  2022-03-01 00:02:44.000        af_onb_screen_1_3   \n",
       "3  1646082115451-9329704  2022-03-01 00:02:44.000        af_onb_screen_1_4   \n",
       "4  1646082115451-9329704  2022-03-01 00:02:44.000          af_activities_2   \n",
       "5  1646082115451-9329704  2022-03-01 00:02:44.000           af_emotions_10   \n",
       "6  1646082115451-9329704  2022-03-01 00:02:44.000             af_mood_Fine   \n",
       "7  1646082115451-9329704  2022-03-01 00:02:44.000  af_paywall_onb_1_1_week   \n",
       "8  1646082115451-9329704  2022-03-01 00:02:44.000             af_open_home   \n",
       "9  1646082115451-9329704  2022-03-01 00:02:44.000              af_log_mood   \n",
       "\n",
       "                event_time country_code  \n",
       "0  2022-03-01 00:02:46.000           US  \n",
       "1  2022-03-01 00:02:49.000           US  \n",
       "2  2022-03-01 00:02:56.000           US  \n",
       "3  2022-03-01 00:03:26.000           US  \n",
       "4  2022-03-01 00:03:33.000           US  \n",
       "5  2022-03-01 00:03:33.000           US  \n",
       "6  2022-03-01 00:03:33.000           US  \n",
       "7  2022-03-01 00:03:33.000           US  \n",
       "8  2022-03-01 00:03:37.000           US  \n",
       "9  2022-03-01 00:03:41.000           US  "
      ]
     },
     "execution_count": 3,
     "metadata": {},
     "output_type": "execute_result"
    }
   ],
   "source": [
    "data.head(10)"
   ]
  },
  {
   "cell_type": "code",
   "execution_count": 4,
   "id": "e6f045be",
   "metadata": {},
   "outputs": [
    {
     "data": {
      "text/plain": [
       "False    1866029\n",
       "True      454445\n",
       "dtype: int64"
      ]
     },
     "execution_count": 4,
     "metadata": {},
     "output_type": "execute_result"
    }
   ],
   "source": [
    "data.duplicated().value_counts()"
   ]
  },
  {
   "cell_type": "code",
   "execution_count": 5,
   "id": "a9e8d7c6",
   "metadata": {},
   "outputs": [
    {
     "name": "stdout",
     "output_type": "stream",
     "text": [
      "<class 'pandas.core.frame.DataFrame'>\n",
      "RangeIndex: 2320474 entries, 0 to 2320473\n",
      "Data columns (total 5 columns):\n",
      " #   Column        Dtype \n",
      "---  ------        ----- \n",
      " 0   appsflyer_id  object\n",
      " 1   install_time  object\n",
      " 2   event_name    object\n",
      " 3   event_time    object\n",
      " 4   country_code  object\n",
      "dtypes: object(5)\n",
      "memory usage: 88.5+ MB\n"
     ]
    }
   ],
   "source": [
    "data.info()"
   ]
  },
  {
   "cell_type": "code",
   "execution_count": 6,
   "id": "da02f6bf",
   "metadata": {},
   "outputs": [
    {
     "data": {
      "text/html": [
       "<div>\n",
       "<style scoped>\n",
       "    .dataframe tbody tr th:only-of-type {\n",
       "        vertical-align: middle;\n",
       "    }\n",
       "\n",
       "    .dataframe tbody tr th {\n",
       "        vertical-align: top;\n",
       "    }\n",
       "\n",
       "    .dataframe thead th {\n",
       "        text-align: right;\n",
       "    }\n",
       "</style>\n",
       "<table border=\"1\" class=\"dataframe\">\n",
       "  <thead>\n",
       "    <tr style=\"text-align: right;\">\n",
       "      <th></th>\n",
       "      <th>unique value count</th>\n",
       "    </tr>\n",
       "  </thead>\n",
       "  <tbody>\n",
       "    <tr>\n",
       "      <th>appsflyer_id</th>\n",
       "      <td>48305</td>\n",
       "    </tr>\n",
       "    <tr>\n",
       "      <th>install_time</th>\n",
       "      <td>48548</td>\n",
       "    </tr>\n",
       "    <tr>\n",
       "      <th>event_name</th>\n",
       "      <td>225</td>\n",
       "    </tr>\n",
       "    <tr>\n",
       "      <th>event_time</th>\n",
       "      <td>887971</td>\n",
       "    </tr>\n",
       "    <tr>\n",
       "      <th>country_code</th>\n",
       "      <td>88</td>\n",
       "    </tr>\n",
       "  </tbody>\n",
       "</table>\n",
       "</div>"
      ],
      "text/plain": [
       "              unique value count\n",
       "appsflyer_id               48305\n",
       "install_time               48548\n",
       "event_name                   225\n",
       "event_time                887971\n",
       "country_code                  88"
      ]
     },
     "execution_count": 6,
     "metadata": {},
     "output_type": "execute_result"
    }
   ],
   "source": [
    "dict = {}\n",
    "for col in data.columns:\n",
    "    dict[col] = data[col].value_counts().shape[0]\n",
    "pd.DataFrame(dict, index=['unique value count']).transpose()"
   ]
  },
  {
   "cell_type": "code",
   "execution_count": 7,
   "id": "bef59afb",
   "metadata": {},
   "outputs": [
    {
     "data": {
      "text/plain": [
       "appsflyer_id    0\n",
       "install_time    0\n",
       "event_name      0\n",
       "event_time      0\n",
       "country_code    0\n",
       "dtype: int64"
      ]
     },
     "execution_count": 7,
     "metadata": {},
     "output_type": "execute_result"
    }
   ],
   "source": [
    "data.isnull().sum()"
   ]
  },
  {
   "cell_type": "markdown",
   "id": "3c59bd74",
   "metadata": {},
   "source": [
    "####  <font color='DarkMagenta'>Благодаря функциям выше, мы узнали:</font>\n",
    "\n",
    "- В данных нет пустых значений;\n",
    "- В данных есть дубликаты;\n",
    "- <b>install_time</b> имеет тип данных object и показывает время установки. Необходимо оставить только дату и поменять на соответствующий тип данных.\n",
    "- <b>country_code</b> можно поменять на category (для удобства использования pivot table)\n",
    "- <b>event_time</b> не несет в данном случае важной информации, этот столбец следует удалить"
   ]
  },
  {
   "cell_type": "code",
   "execution_count": 8,
   "id": "48b960e6",
   "metadata": {},
   "outputs": [],
   "source": [
    "data.drop_duplicates(inplace = True)"
   ]
  },
  {
   "cell_type": "code",
   "execution_count": 9,
   "id": "d7fd1589",
   "metadata": {},
   "outputs": [],
   "source": [
    "data['install_time'] = data['install_time'].astype('datetime64')\n",
    "data['install_time'] = data['install_time'].dt.floor('D')"
   ]
  },
  {
   "cell_type": "code",
   "execution_count": 10,
   "id": "d84bef0e",
   "metadata": {},
   "outputs": [],
   "source": [
    "data['country_code'] = data['country_code'].astype('category')"
   ]
  },
  {
   "cell_type": "code",
   "execution_count": 11,
   "id": "f6bc5071",
   "metadata": {},
   "outputs": [],
   "source": [
    "data.drop(['event_time'], axis=1, inplace=True)"
   ]
  },
  {
   "cell_type": "code",
   "execution_count": 12,
   "id": "ea920ed2",
   "metadata": {},
   "outputs": [
    {
     "name": "stdout",
     "output_type": "stream",
     "text": [
      "<class 'pandas.core.frame.DataFrame'>\n",
      "Int64Index: 1866029 entries, 0 to 2315281\n",
      "Data columns (total 4 columns):\n",
      " #   Column        Dtype         \n",
      "---  ------        -----         \n",
      " 0   appsflyer_id  object        \n",
      " 1   install_time  datetime64[ns]\n",
      " 2   event_name    object        \n",
      " 3   country_code  category      \n",
      "dtypes: category(1), datetime64[ns](1), object(2)\n",
      "memory usage: 58.7+ MB\n"
     ]
    }
   ],
   "source": [
    "data.info()"
   ]
  },
  {
   "cell_type": "code",
   "execution_count": 13,
   "id": "550af3fc",
   "metadata": {},
   "outputs": [
    {
     "data": {
      "text/html": [
       "<div>\n",
       "<style scoped>\n",
       "    .dataframe tbody tr th:only-of-type {\n",
       "        vertical-align: middle;\n",
       "    }\n",
       "\n",
       "    .dataframe tbody tr th {\n",
       "        vertical-align: top;\n",
       "    }\n",
       "\n",
       "    .dataframe thead th {\n",
       "        text-align: right;\n",
       "    }\n",
       "</style>\n",
       "<table border=\"1\" class=\"dataframe\">\n",
       "  <thead>\n",
       "    <tr style=\"text-align: right;\">\n",
       "      <th></th>\n",
       "      <th>appsflyer_id</th>\n",
       "      <th>install_time</th>\n",
       "      <th>event_name</th>\n",
       "      <th>country_code</th>\n",
       "    </tr>\n",
       "  </thead>\n",
       "  <tbody>\n",
       "    <tr>\n",
       "      <th>0</th>\n",
       "      <td>1646082115451-9329704</td>\n",
       "      <td>2022-03-01</td>\n",
       "      <td>af_onb_screen_1_1</td>\n",
       "      <td>US</td>\n",
       "    </tr>\n",
       "    <tr>\n",
       "      <th>1</th>\n",
       "      <td>1646082115451-9329704</td>\n",
       "      <td>2022-03-01</td>\n",
       "      <td>af_onb_screen_1_2</td>\n",
       "      <td>US</td>\n",
       "    </tr>\n",
       "    <tr>\n",
       "      <th>2</th>\n",
       "      <td>1646082115451-9329704</td>\n",
       "      <td>2022-03-01</td>\n",
       "      <td>af_onb_screen_1_3</td>\n",
       "      <td>US</td>\n",
       "    </tr>\n",
       "    <tr>\n",
       "      <th>3</th>\n",
       "      <td>1646082115451-9329704</td>\n",
       "      <td>2022-03-01</td>\n",
       "      <td>af_onb_screen_1_4</td>\n",
       "      <td>US</td>\n",
       "    </tr>\n",
       "    <tr>\n",
       "      <th>4</th>\n",
       "      <td>1646082115451-9329704</td>\n",
       "      <td>2022-03-01</td>\n",
       "      <td>af_activities_2</td>\n",
       "      <td>US</td>\n",
       "    </tr>\n",
       "  </tbody>\n",
       "</table>\n",
       "</div>"
      ],
      "text/plain": [
       "            appsflyer_id install_time         event_name country_code\n",
       "0  1646082115451-9329704   2022-03-01  af_onb_screen_1_1           US\n",
       "1  1646082115451-9329704   2022-03-01  af_onb_screen_1_2           US\n",
       "2  1646082115451-9329704   2022-03-01  af_onb_screen_1_3           US\n",
       "3  1646082115451-9329704   2022-03-01  af_onb_screen_1_4           US\n",
       "4  1646082115451-9329704   2022-03-01    af_activities_2           US"
      ]
     },
     "execution_count": 13,
     "metadata": {},
     "output_type": "execute_result"
    }
   ],
   "source": [
    "data.head()"
   ]
  },
  {
   "cell_type": "markdown",
   "id": "5b38426f",
   "metadata": {},
   "source": [
    "### <font color='DarkMagenta'>2. Преобразование данных<font/>"
   ]
  },
  {
   "cell_type": "markdown",
   "id": "6f769a54",
   "metadata": {},
   "source": [
    "<font color='DarkMagenta'><b>Выделить в отдельные колонки из event_name следующие данные:</b>\n",
    "- Данные о начале триальной подписки <b>(trial_started)</b>;\n",
    "- Данные о конвертации триальной подписки в платную <b>(trial_converted)</b>.\n",
    "   "
   ]
  },
  {
   "cell_type": "code",
   "execution_count": 14,
   "id": "3b164614",
   "metadata": {},
   "outputs": [],
   "source": [
    "data['trial_started'] = np.where(data.event_name == 'apphud_trial_started', 1, 0) \n",
    "# если у пользователя была триальная подписка, в столбце будет указана 1\n",
    "data['trial_converted'] = np.where(data.event_name == 'apphud_trial_converted', 1, 0)\n",
    "# если у пользователя была платная подписка, в столбце будет указана 1"
   ]
  },
  {
   "cell_type": "code",
   "execution_count": 15,
   "id": "3037e0c2",
   "metadata": {},
   "outputs": [
    {
     "data": {
      "text/html": [
       "<div>\n",
       "<style scoped>\n",
       "    .dataframe tbody tr th:only-of-type {\n",
       "        vertical-align: middle;\n",
       "    }\n",
       "\n",
       "    .dataframe tbody tr th {\n",
       "        vertical-align: top;\n",
       "    }\n",
       "\n",
       "    .dataframe thead th {\n",
       "        text-align: right;\n",
       "    }\n",
       "</style>\n",
       "<table border=\"1\" class=\"dataframe\">\n",
       "  <thead>\n",
       "    <tr style=\"text-align: right;\">\n",
       "      <th></th>\n",
       "      <th>appsflyer_id</th>\n",
       "      <th>install_time</th>\n",
       "      <th>event_name</th>\n",
       "      <th>country_code</th>\n",
       "      <th>trial_started</th>\n",
       "      <th>trial_converted</th>\n",
       "    </tr>\n",
       "  </thead>\n",
       "  <tbody>\n",
       "    <tr>\n",
       "      <th>0</th>\n",
       "      <td>1646082115451-9329704</td>\n",
       "      <td>2022-03-01</td>\n",
       "      <td>af_onb_screen_1_1</td>\n",
       "      <td>US</td>\n",
       "      <td>0</td>\n",
       "      <td>0</td>\n",
       "    </tr>\n",
       "    <tr>\n",
       "      <th>1</th>\n",
       "      <td>1646082115451-9329704</td>\n",
       "      <td>2022-03-01</td>\n",
       "      <td>af_onb_screen_1_2</td>\n",
       "      <td>US</td>\n",
       "      <td>0</td>\n",
       "      <td>0</td>\n",
       "    </tr>\n",
       "    <tr>\n",
       "      <th>2</th>\n",
       "      <td>1646082115451-9329704</td>\n",
       "      <td>2022-03-01</td>\n",
       "      <td>af_onb_screen_1_3</td>\n",
       "      <td>US</td>\n",
       "      <td>0</td>\n",
       "      <td>0</td>\n",
       "    </tr>\n",
       "    <tr>\n",
       "      <th>3</th>\n",
       "      <td>1646082115451-9329704</td>\n",
       "      <td>2022-03-01</td>\n",
       "      <td>af_onb_screen_1_4</td>\n",
       "      <td>US</td>\n",
       "      <td>0</td>\n",
       "      <td>0</td>\n",
       "    </tr>\n",
       "    <tr>\n",
       "      <th>4</th>\n",
       "      <td>1646082115451-9329704</td>\n",
       "      <td>2022-03-01</td>\n",
       "      <td>af_activities_2</td>\n",
       "      <td>US</td>\n",
       "      <td>0</td>\n",
       "      <td>0</td>\n",
       "    </tr>\n",
       "  </tbody>\n",
       "</table>\n",
       "</div>"
      ],
      "text/plain": [
       "            appsflyer_id install_time         event_name country_code  \\\n",
       "0  1646082115451-9329704   2022-03-01  af_onb_screen_1_1           US   \n",
       "1  1646082115451-9329704   2022-03-01  af_onb_screen_1_2           US   \n",
       "2  1646082115451-9329704   2022-03-01  af_onb_screen_1_3           US   \n",
       "3  1646082115451-9329704   2022-03-01  af_onb_screen_1_4           US   \n",
       "4  1646082115451-9329704   2022-03-01    af_activities_2           US   \n",
       "\n",
       "   trial_started  trial_converted  \n",
       "0              0                0  \n",
       "1              0                0  \n",
       "2              0                0  \n",
       "3              0                0  \n",
       "4              0                0  "
      ]
     },
     "execution_count": 15,
     "metadata": {},
     "output_type": "execute_result"
    }
   ],
   "source": [
    "data.head()"
   ]
  },
  {
   "cell_type": "code",
   "execution_count": 16,
   "id": "f444084a",
   "metadata": {},
   "outputs": [
    {
     "data": {
      "text/plain": [
       "0    1864278\n",
       "1       1751\n",
       "Name: trial_started, dtype: int64"
      ]
     },
     "execution_count": 16,
     "metadata": {},
     "output_type": "execute_result"
    }
   ],
   "source": [
    "data['trial_started'].value_counts()"
   ]
  },
  {
   "cell_type": "code",
   "execution_count": 17,
   "id": "6c139204",
   "metadata": {},
   "outputs": [
    {
     "data": {
      "text/plain": [
       "0    1865701\n",
       "1        328\n",
       "Name: trial_converted, dtype: int64"
      ]
     },
     "execution_count": 17,
     "metadata": {},
     "output_type": "execute_result"
    }
   ],
   "source": [
    "data['trial_converted'].value_counts()"
   ]
  },
  {
   "cell_type": "markdown",
   "id": "2573aad2",
   "metadata": {},
   "source": [
    "#### <font color='DarkMagenta'>Создать отдельную таблицу, в которой каждому ID будет присвоен возраст:"
   ]
  },
  {
   "cell_type": "code",
   "execution_count": 18,
   "id": "18607df6",
   "metadata": {
    "scrolled": true
   },
   "outputs": [
    {
     "data": {
      "text/plain": [
       "af_user_age_13_18       5711\n",
       "af_user_age_13_17       5185\n",
       "af_user_age_under_12    3397\n",
       "af_user_age_25_34       2403\n",
       "af_user_age_18_24       2042\n",
       "af_user_age_35_44       1399\n",
       "af_user_age_45_64        911\n",
       "af_user_age_19_24        864\n",
       "af_user_age_over_65       48\n",
       "Name: age, dtype: int64"
      ]
     },
     "execution_count": 18,
     "metadata": {},
     "output_type": "execute_result"
    }
   ],
   "source": [
    "data_age = data[['appsflyer_id', 'event_name']]\n",
    "data_age = data_age[data_age['event_name'].str.contains('age', regex=False)]\n",
    "data_age.rename(columns={'event_name':'age'}, inplace=True)\n",
    "data_age['age'].value_counts()"
   ]
  },
  {
   "cell_type": "markdown",
   "id": "221238c3",
   "metadata": {},
   "source": [
    "<font color='DarkMagenta'> т.к. в данных есть ошибка (разработчики сначала добавили 13-18, 19-24, а затем поменяли на 13-17, 18-24), необходимо:\n",
    "- поменять 13-18 на 13-17;\n",
    "- 19-24 на 18-24."
   ]
  },
  {
   "cell_type": "code",
   "execution_count": 19,
   "id": "f48109f9",
   "metadata": {},
   "outputs": [],
   "source": [
    "data_age.loc[(data_age['age'] == 'af_user_age_13_18'), 'age'] = 'af_user_age_13_17'\n",
    "data_age.loc[(data_age['age'] == 'af_user_age_19_24'), 'age'] = 'af_user_age_18_24'\n",
    "\n",
    "\n",
    "data_age['age'] = data_age['age'].apply(lambda x: x.replace('af_user_age_', '').\n",
    "                                        replace('under_', 'under ').replace('over_', 'over ').replace('_', '-'))\n",
    "\n",
    "# меняем тип данных на categories и устанавливаем порядок для удобства в дальнейшем использовании\n",
    "categories = np.array(['under 12', '13-17', '18-24', '25-34', '35-44', '45-64', 'over 65'])\n",
    "\n",
    "data_age['age'] = pd.Categorical(\n",
    "   data_age['age'], categories=categories, ordered=True)"
   ]
  },
  {
   "cell_type": "code",
   "execution_count": 20,
   "id": "69c65f35",
   "metadata": {},
   "outputs": [
    {
     "name": "stdout",
     "output_type": "stream",
     "text": [
      "<class 'pandas.core.frame.DataFrame'>\n",
      "Int64Index: 21960 entries, 32237 to 2315269\n",
      "Data columns (total 2 columns):\n",
      " #   Column        Non-Null Count  Dtype   \n",
      "---  ------        --------------  -----   \n",
      " 0   appsflyer_id  21960 non-null  object  \n",
      " 1   age           21960 non-null  category\n",
      "dtypes: category(1), object(1)\n",
      "memory usage: 364.9+ KB\n"
     ]
    }
   ],
   "source": [
    "data_age.info()\n",
    "# данные о возрасте появились только с 04.05.22, поэтому строк 22085"
   ]
  },
  {
   "cell_type": "code",
   "execution_count": 21,
   "id": "69959489",
   "metadata": {
    "scrolled": true
   },
   "outputs": [
    {
     "data": {
      "text/plain": [
       "13-17       10896\n",
       "under 12     3397\n",
       "18-24        2906\n",
       "25-34        2403\n",
       "35-44        1399\n",
       "45-64         911\n",
       "over 65        48\n",
       "Name: age, dtype: int64"
      ]
     },
     "execution_count": 21,
     "metadata": {},
     "output_type": "execute_result"
    }
   ],
   "source": [
    "data_age['age'].value_counts()"
   ]
  },
  {
   "cell_type": "markdown",
   "id": "96b5ea4b",
   "metadata": {},
   "source": [
    "#### <font color='DarkMagenta'>Сгруппировать исходную таблицу следующим образом:\n",
    "- <b>appsflyer_id</b>\n",
    "- <b>install_time</b> (дата установки)\n",
    "- <b>trial_started</b> (была ли триальная подписка)\n",
    "- <b>trial_converted</b> (была ли конверсия в платную подписку)"
   ]
  },
  {
   "cell_type": "code",
   "execution_count": 22,
   "id": "97e246e9",
   "metadata": {},
   "outputs": [],
   "source": [
    "data_agg = data\\\n",
    "    .groupby(['appsflyer_id', 'install_time'])\\\n",
    "    .agg(#install_time = ('install_time', 'min'), \n",
    "         # у некоторых пользователей несколько дат установки, нас интересует лишь самая первая\n",
    "        trial_started = ('trial_started', 'max'),\n",
    "         # у пользователей, у которых была подписка, максимальное значение 1, у кого не было - 0\n",
    "        trial_converted = ('trial_converted', 'max'))\\\n",
    "    .reset_index() "
   ]
  },
  {
   "cell_type": "code",
   "execution_count": 23,
   "id": "95609d04",
   "metadata": {
    "scrolled": true
   },
   "outputs": [
    {
     "data": {
      "text/html": [
       "<div>\n",
       "<style scoped>\n",
       "    .dataframe tbody tr th:only-of-type {\n",
       "        vertical-align: middle;\n",
       "    }\n",
       "\n",
       "    .dataframe tbody tr th {\n",
       "        vertical-align: top;\n",
       "    }\n",
       "\n",
       "    .dataframe thead th {\n",
       "        text-align: right;\n",
       "    }\n",
       "</style>\n",
       "<table border=\"1\" class=\"dataframe\">\n",
       "  <thead>\n",
       "    <tr style=\"text-align: right;\">\n",
       "      <th></th>\n",
       "      <th>appsflyer_id</th>\n",
       "      <th>install_time</th>\n",
       "      <th>trial_started</th>\n",
       "      <th>trial_converted</th>\n",
       "    </tr>\n",
       "  </thead>\n",
       "  <tbody>\n",
       "    <tr>\n",
       "      <th>0</th>\n",
       "      <td>1643718983128-4878526</td>\n",
       "      <td>2022-02-01</td>\n",
       "      <td>0</td>\n",
       "      <td>0</td>\n",
       "    </tr>\n",
       "    <tr>\n",
       "      <th>1</th>\n",
       "      <td>1643730068939-5570190</td>\n",
       "      <td>2022-02-01</td>\n",
       "      <td>0</td>\n",
       "      <td>0</td>\n",
       "    </tr>\n",
       "    <tr>\n",
       "      <th>2</th>\n",
       "      <td>1643730221071-2368712</td>\n",
       "      <td>2022-02-01</td>\n",
       "      <td>0</td>\n",
       "      <td>0</td>\n",
       "    </tr>\n",
       "    <tr>\n",
       "      <th>3</th>\n",
       "      <td>1643730286667-0681605</td>\n",
       "      <td>2022-02-01</td>\n",
       "      <td>0</td>\n",
       "      <td>0</td>\n",
       "    </tr>\n",
       "    <tr>\n",
       "      <th>4</th>\n",
       "      <td>1643731852924-3152055</td>\n",
       "      <td>2022-02-01</td>\n",
       "      <td>0</td>\n",
       "      <td>0</td>\n",
       "    </tr>\n",
       "  </tbody>\n",
       "</table>\n",
       "</div>"
      ],
      "text/plain": [
       "            appsflyer_id install_time  trial_started  trial_converted\n",
       "0  1643718983128-4878526   2022-02-01              0                0\n",
       "1  1643730068939-5570190   2022-02-01              0                0\n",
       "2  1643730221071-2368712   2022-02-01              0                0\n",
       "3  1643730286667-0681605   2022-02-01              0                0\n",
       "4  1643731852924-3152055   2022-02-01              0                0"
      ]
     },
     "execution_count": 23,
     "metadata": {},
     "output_type": "execute_result"
    }
   ],
   "source": [
    "data_agg.head()"
   ]
  },
  {
   "cell_type": "markdown",
   "id": "7390d975",
   "metadata": {},
   "source": [
    "<font color='DarkMagenta'>У каждого пользователя может быть несколько <b>country_code</b>. Нас интересует только страна в момент установки.\n"
   ]
  },
  {
   "cell_type": "code",
   "execution_count": 24,
   "id": "d4cc4251",
   "metadata": {},
   "outputs": [],
   "source": [
    "data_country_code = data[['appsflyer_id', 'install_time', 'country_code']]\n",
    "data_country_code = data_country_code.sort_values(['appsflyer_id']).drop_duplicates('appsflyer_id', keep='first')"
   ]
  },
  {
   "cell_type": "code",
   "execution_count": 25,
   "id": "f4cf57ad",
   "metadata": {
    "scrolled": true
   },
   "outputs": [
    {
     "data": {
      "text/html": [
       "<div>\n",
       "<style scoped>\n",
       "    .dataframe tbody tr th:only-of-type {\n",
       "        vertical-align: middle;\n",
       "    }\n",
       "\n",
       "    .dataframe tbody tr th {\n",
       "        vertical-align: top;\n",
       "    }\n",
       "\n",
       "    .dataframe thead th {\n",
       "        text-align: right;\n",
       "    }\n",
       "</style>\n",
       "<table border=\"1\" class=\"dataframe\">\n",
       "  <thead>\n",
       "    <tr style=\"text-align: right;\">\n",
       "      <th></th>\n",
       "      <th>appsflyer_id</th>\n",
       "      <th>install_time</th>\n",
       "      <th>country_code</th>\n",
       "    </tr>\n",
       "  </thead>\n",
       "  <tbody>\n",
       "    <tr>\n",
       "      <th>17895</th>\n",
       "      <td>1643718983128-4878526</td>\n",
       "      <td>2022-02-01</td>\n",
       "      <td>RU</td>\n",
       "    </tr>\n",
       "    <tr>\n",
       "      <th>19129</th>\n",
       "      <td>1643730068939-5570190</td>\n",
       "      <td>2022-02-01</td>\n",
       "      <td>RU</td>\n",
       "    </tr>\n",
       "    <tr>\n",
       "      <th>19130</th>\n",
       "      <td>1643730221071-2368712</td>\n",
       "      <td>2022-02-01</td>\n",
       "      <td>RU</td>\n",
       "    </tr>\n",
       "    <tr>\n",
       "      <th>19131</th>\n",
       "      <td>1643730286667-0681605</td>\n",
       "      <td>2022-02-01</td>\n",
       "      <td>RU</td>\n",
       "    </tr>\n",
       "    <tr>\n",
       "      <th>19144</th>\n",
       "      <td>1643731852924-3152055</td>\n",
       "      <td>2022-02-01</td>\n",
       "      <td>RU</td>\n",
       "    </tr>\n",
       "  </tbody>\n",
       "</table>\n",
       "</div>"
      ],
      "text/plain": [
       "                appsflyer_id install_time country_code\n",
       "17895  1643718983128-4878526   2022-02-01           RU\n",
       "19129  1643730068939-5570190   2022-02-01           RU\n",
       "19130  1643730221071-2368712   2022-02-01           RU\n",
       "19131  1643730286667-0681605   2022-02-01           RU\n",
       "19144  1643731852924-3152055   2022-02-01           RU"
      ]
     },
     "execution_count": 25,
     "metadata": {},
     "output_type": "execute_result"
    }
   ],
   "source": [
    "data_country_code.head()"
   ]
  },
  {
   "cell_type": "markdown",
   "id": "ca6c473e",
   "metadata": {},
   "source": [
    "### <font color='DarkMagenta'>3. Объединение данных в результирующую таблицу"
   ]
  },
  {
   "cell_type": "code",
   "execution_count": 26,
   "id": "68c40ebe",
   "metadata": {},
   "outputs": [],
   "source": [
    "data_merged_age = pd.merge(data_agg, data_age, how='left')\n",
    "data_merged_age_cc = pd.merge(data_merged_age, data_country_code, how='left')"
   ]
  },
  {
   "cell_type": "code",
   "execution_count": 27,
   "id": "ffb69356",
   "metadata": {
    "scrolled": false
   },
   "outputs": [
    {
     "data": {
      "text/html": [
       "<div>\n",
       "<style scoped>\n",
       "    .dataframe tbody tr th:only-of-type {\n",
       "        vertical-align: middle;\n",
       "    }\n",
       "\n",
       "    .dataframe tbody tr th {\n",
       "        vertical-align: top;\n",
       "    }\n",
       "\n",
       "    .dataframe thead th {\n",
       "        text-align: right;\n",
       "    }\n",
       "</style>\n",
       "<table border=\"1\" class=\"dataframe\">\n",
       "  <thead>\n",
       "    <tr style=\"text-align: right;\">\n",
       "      <th></th>\n",
       "      <th>appsflyer_id</th>\n",
       "      <th>install_time</th>\n",
       "      <th>trial_started</th>\n",
       "      <th>trial_converted</th>\n",
       "      <th>age</th>\n",
       "      <th>country_code</th>\n",
       "    </tr>\n",
       "  </thead>\n",
       "  <tbody>\n",
       "    <tr>\n",
       "      <th>0</th>\n",
       "      <td>1643718983128-4878526</td>\n",
       "      <td>2022-02-01</td>\n",
       "      <td>0</td>\n",
       "      <td>0</td>\n",
       "      <td>NaN</td>\n",
       "      <td>RU</td>\n",
       "    </tr>\n",
       "    <tr>\n",
       "      <th>1</th>\n",
       "      <td>1643730068939-5570190</td>\n",
       "      <td>2022-02-01</td>\n",
       "      <td>0</td>\n",
       "      <td>0</td>\n",
       "      <td>NaN</td>\n",
       "      <td>RU</td>\n",
       "    </tr>\n",
       "    <tr>\n",
       "      <th>2</th>\n",
       "      <td>1643730221071-2368712</td>\n",
       "      <td>2022-02-01</td>\n",
       "      <td>0</td>\n",
       "      <td>0</td>\n",
       "      <td>NaN</td>\n",
       "      <td>RU</td>\n",
       "    </tr>\n",
       "    <tr>\n",
       "      <th>3</th>\n",
       "      <td>1643730286667-0681605</td>\n",
       "      <td>2022-02-01</td>\n",
       "      <td>0</td>\n",
       "      <td>0</td>\n",
       "      <td>NaN</td>\n",
       "      <td>RU</td>\n",
       "    </tr>\n",
       "    <tr>\n",
       "      <th>4</th>\n",
       "      <td>1643731852924-3152055</td>\n",
       "      <td>2022-02-01</td>\n",
       "      <td>0</td>\n",
       "      <td>0</td>\n",
       "      <td>NaN</td>\n",
       "      <td>RU</td>\n",
       "    </tr>\n",
       "  </tbody>\n",
       "</table>\n",
       "</div>"
      ],
      "text/plain": [
       "            appsflyer_id install_time  trial_started  trial_converted  age  \\\n",
       "0  1643718983128-4878526   2022-02-01              0                0  NaN   \n",
       "1  1643730068939-5570190   2022-02-01              0                0  NaN   \n",
       "2  1643730221071-2368712   2022-02-01              0                0  NaN   \n",
       "3  1643730286667-0681605   2022-02-01              0                0  NaN   \n",
       "4  1643731852924-3152055   2022-02-01              0                0  NaN   \n",
       "\n",
       "  country_code  \n",
       "0           RU  \n",
       "1           RU  \n",
       "2           RU  \n",
       "3           RU  \n",
       "4           RU  "
      ]
     },
     "execution_count": 27,
     "metadata": {},
     "output_type": "execute_result"
    }
   ],
   "source": [
    "data_merged_age_cc.head()"
   ]
  },
  {
   "cell_type": "markdown",
   "id": "9a31bcc0",
   "metadata": {},
   "source": [
    "### <font color='DarkMagenta'>4. Визуализация данных</font>"
   ]
  },
  {
   "cell_type": "markdown",
   "id": "4c58a774",
   "metadata": {},
   "source": [
    "#### Общая информация о распределении возрастов"
   ]
  },
  {
   "cell_type": "code",
   "execution_count": 143,
   "id": "7c7be7e9",
   "metadata": {},
   "outputs": [
    {
     "data": {
      "text/html": [
       "<div>\n",
       "<style scoped>\n",
       "    .dataframe tbody tr th:only-of-type {\n",
       "        vertical-align: middle;\n",
       "    }\n",
       "\n",
       "    .dataframe tbody tr th {\n",
       "        vertical-align: top;\n",
       "    }\n",
       "\n",
       "    .dataframe thead th {\n",
       "        text-align: right;\n",
       "    }\n",
       "</style>\n",
       "<table border=\"1\" class=\"dataframe\">\n",
       "  <thead>\n",
       "    <tr style=\"text-align: right;\">\n",
       "      <th></th>\n",
       "      <th>age</th>\n",
       "      <th>appsflyer_id</th>\n",
       "    </tr>\n",
       "  </thead>\n",
       "  <tbody>\n",
       "    <tr>\n",
       "      <th>0</th>\n",
       "      <td>under 12</td>\n",
       "      <td>3405</td>\n",
       "    </tr>\n",
       "    <tr>\n",
       "      <th>1</th>\n",
       "      <td>13-17</td>\n",
       "      <td>10917</td>\n",
       "    </tr>\n",
       "    <tr>\n",
       "      <th>2</th>\n",
       "      <td>18-24</td>\n",
       "      <td>2915</td>\n",
       "    </tr>\n",
       "    <tr>\n",
       "      <th>3</th>\n",
       "      <td>25-34</td>\n",
       "      <td>2412</td>\n",
       "    </tr>\n",
       "    <tr>\n",
       "      <th>4</th>\n",
       "      <td>35-44</td>\n",
       "      <td>1402</td>\n",
       "    </tr>\n",
       "    <tr>\n",
       "      <th>5</th>\n",
       "      <td>45-64</td>\n",
       "      <td>912</td>\n",
       "    </tr>\n",
       "    <tr>\n",
       "      <th>6</th>\n",
       "      <td>over 65</td>\n",
       "      <td>48</td>\n",
       "    </tr>\n",
       "  </tbody>\n",
       "</table>\n",
       "</div>"
      ],
      "text/plain": [
       "        age  appsflyer_id\n",
       "0  under 12          3405\n",
       "1     13-17         10917\n",
       "2     18-24          2915\n",
       "3     25-34          2412\n",
       "4     35-44          1402\n",
       "5     45-64           912\n",
       "6   over 65            48"
      ]
     },
     "execution_count": 143,
     "metadata": {},
     "output_type": "execute_result"
    }
   ],
   "source": [
    "pivot_age = pd.pivot_table(data_merged_age_cc, index = 'age', values = 'appsflyer_id', aggfunc='count').reset_index()\n",
    "pivot_age"
   ]
  },
  {
   "cell_type": "code",
   "execution_count": 190,
   "id": "6d03e805",
   "metadata": {},
   "outputs": [
    {
     "data": {
      "image/png": "[encoded data removed]",
      "text/plain": [
       "<Figure size 1440x720 with 2 Axes>"
      ]
     },
     "metadata": {
      "needs_background": "light"
     },
     "output_type": "display_data"
    }
   ],
   "source": [
    "age = np.array(pivot_age['age'])\n",
    "values = np.array(pivot_age['appsflyer_id'])\n",
    "\n",
    "\n",
    "fig, ax = plt.subplots(1, 2)\n",
    "plt.grid()\n",
    "\n",
    "ax[0].bar(age, values, color = 'RosyBrown')\n",
    "\n",
    "colors = ['Indigo', 'SteelBlue', 'RosyBrown', 'Plum', 'Teal', 'MistyRose', 'Thistle']\n",
    "explode = [0.1 for _ in range(7)]\n",
    "ax[1].pie(values, autopct='%1.1f%%', colors = colors, explode = explode, textprops={'size': 'large'})\n",
    "ax[1].legend(age, fontsize = 13, loc = 'lower left')\n",
    "\n",
    "\n",
    "fig.set_figwidth(20)  \n",
    "fig.set_figheight(10) \n",
    "\n",
    "plt.show()"
   ]
  },
  {
   "cell_type": "markdown",
   "id": "779a5a9c",
   "metadata": {},
   "source": [
    "#### Конверсия в триальную и платную пидписки"
   ]
  },
  {
   "cell_type": "code",
   "execution_count": 161,
   "id": "ccad6d74",
   "metadata": {},
   "outputs": [
    {
     "data": {
      "text/html": [
       "<div>\n",
       "<style scoped>\n",
       "    .dataframe tbody tr th:only-of-type {\n",
       "        vertical-align: middle;\n",
       "    }\n",
       "\n",
       "    .dataframe tbody tr th {\n",
       "        vertical-align: top;\n",
       "    }\n",
       "\n",
       "    .dataframe thead th {\n",
       "        text-align: right;\n",
       "    }\n",
       "</style>\n",
       "<table border=\"1\" class=\"dataframe\">\n",
       "  <thead>\n",
       "    <tr style=\"text-align: right;\">\n",
       "      <th></th>\n",
       "      <th>age</th>\n",
       "      <th>trial_started</th>\n",
       "      <th>trial_converted</th>\n",
       "      <th>percent_converted</th>\n",
       "    </tr>\n",
       "  </thead>\n",
       "  <tbody>\n",
       "    <tr>\n",
       "      <th>0</th>\n",
       "      <td>under 12</td>\n",
       "      <td>31</td>\n",
       "      <td>9</td>\n",
       "      <td>29.0</td>\n",
       "    </tr>\n",
       "    <tr>\n",
       "      <th>1</th>\n",
       "      <td>13-17</td>\n",
       "      <td>261</td>\n",
       "      <td>49</td>\n",
       "      <td>18.8</td>\n",
       "    </tr>\n",
       "    <tr>\n",
       "      <th>2</th>\n",
       "      <td>18-24</td>\n",
       "      <td>244</td>\n",
       "      <td>33</td>\n",
       "      <td>13.5</td>\n",
       "    </tr>\n",
       "    <tr>\n",
       "      <th>3</th>\n",
       "      <td>25-34</td>\n",
       "      <td>264</td>\n",
       "      <td>38</td>\n",
       "      <td>14.4</td>\n",
       "    </tr>\n",
       "    <tr>\n",
       "      <th>4</th>\n",
       "      <td>35-44</td>\n",
       "      <td>151</td>\n",
       "      <td>22</td>\n",
       "      <td>14.6</td>\n",
       "    </tr>\n",
       "    <tr>\n",
       "      <th>5</th>\n",
       "      <td>45-64</td>\n",
       "      <td>68</td>\n",
       "      <td>12</td>\n",
       "      <td>17.6</td>\n",
       "    </tr>\n",
       "    <tr>\n",
       "      <th>6</th>\n",
       "      <td>over 65</td>\n",
       "      <td>1</td>\n",
       "      <td>0</td>\n",
       "      <td>0.0</td>\n",
       "    </tr>\n",
       "  </tbody>\n",
       "</table>\n",
       "</div>"
      ],
      "text/plain": [
       "        age  trial_started  trial_converted  percent_converted\n",
       "0  under 12             31                9               29.0\n",
       "1     13-17            261               49               18.8\n",
       "2     18-24            244               33               13.5\n",
       "3     25-34            264               38               14.4\n",
       "4     35-44            151               22               14.6\n",
       "5     45-64             68               12               17.6\n",
       "6   over 65              1                0                0.0"
      ]
     },
     "execution_count": 161,
     "metadata": {},
     "output_type": "execute_result"
    }
   ],
   "source": [
    "pivot_trial = pd.pivot_table(data_merged_age_cc, index= 'age', values = ['trial_started', 'trial_converted'], \n",
    "                             aggfunc= 'sum').reset_index().reindex(columns=['age', 'trial_started', 'trial_converted'])\n",
    "\n",
    "\n",
    "pivot_trial['percent_converted'] = np.round(pivot_trial['trial_converted'] / pivot_trial['trial_started'] * 100, 1)\n",
    "pivot_trial"
   ]
  },
  {
   "cell_type": "code",
   "execution_count": 191,
   "id": "467ce47e",
   "metadata": {},
   "outputs": [
    {
     "data": {
      "image/png": "[encoded data removed]",
      "text/plain": [
       "<Figure size 1440x576 with 2 Axes>"
      ]
     },
     "metadata": {
      "needs_background": "light"
     },
     "output_type": "display_data"
    }
   ],
   "source": [
    "age = np.array(pivot_trial['age'])\n",
    "trial_st = np.array(pivot_trial['trial_started'])\n",
    "trial_cv = np.array(pivot_trial['trial_converted'])\n",
    "percent = np.array(pivot_trial['percent_converted'])\n",
    "\n",
    "fig, ax = plt.subplots(1, 2)\n",
    "ax[0].bar(age, trial_st, color = 'Thistle', label = 'trial started')\n",
    "ax[0].bar(age, trial_cv, color = 'SteelBlue', label = 'trial converted')\n",
    "\n",
    "\n",
    "ax[1].barh(age, percent, color = 'RosyBrown')\n",
    "ax[1].set(xlim=(0, 100))\n",
    "\n",
    "ax[0].legend(fontsize = 12)\n",
    "ax[0].set_title('Количество')\n",
    "ax[1].set_title('Проценты')\n",
    "\n",
    "fig.set_figwidth(20)  \n",
    "fig.set_figheight(8) "
   ]
  },
  {
   "cell_type": "code",
   "execution_count": null,
   "id": "7267844a",
   "metadata": {},
   "outputs": [],
   "source": []
  }
 ],
 "metadata": {
  "kernelspec": {
   "display_name": "Python 3 (ipykernel)",
   "language": "python",
   "name": "python3"
  },
  "language_info": {
   "codemirror_mode": {
    "name": "ipython",
    "version": 3
   },
   "file_extension": ".py",
   "mimetype": "text/x-python",
   "name": "python",
   "nbconvert_exporter": "python",
   "pygments_lexer": "ipython3",
   "version": "3.9.7"
  }
 },
 "nbformat": 4,
 "nbformat_minor": 5
}
